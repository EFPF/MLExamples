{
 "cells": [
  {
   "cell_type": "markdown",
   "id": "consistent-split",
   "metadata": {
    "id": "4v77W6thz925"
   },
   "source": [
    "# ML Application Exercise\n",
    "## Classification: Fault diagnosis of liquid ultrasonic flowmeters\n",
    "\n",
    "The task of this exercise is to implement a complete Data Driven pipeline (load, data-analysis, visualisation, model selection and optimization, prediction) on a specific Dataset. In this exercize the challenge is to perform a classification with different models to find the most accurate prediction. The data of the meter C will be used.\n",
    "\n",
    "\n",
    "## Dataset \n",
    "The notebook will upload a public available dataset: https://archive.ics.uci.edu/ml/datasets/Ultrasonic+flowmeter+diagnostics\n",
    "<blockquote>\n",
    "  <b>Source:</b>\n",
    "    The dataset was created by Kojo Sarfo Gyamfi at Coventry University, UK gyamfik@uni.coventry.ac.uk and Craig Marshall National Engineering Laboratory, TUV-NEL, UK \n",
    "    Craig.Marsall@tuv-sud.co.uk\n",
    "    <br/>\n",
    "    <b>Data Set Information:</b>\n",
    "    <ul>\n",
    "        <li>Meter A contains 87 instances of diagnostic parameters for an 8-path liquid ultrasonic flow meter (USM). It has 37 attributes and 2 classes or health states</li>\n",
    "        <li>Meter B contains 92 instances of diagnostic parameters for a 4-path liquid USM. It has 52 attributes and 3 classes</li>\n",
    "        <li>Meter C contains 181 instances of diagnostic parameters for a 4-path liquid USM. It has 44 attributes and 4 classes</li>\n",
    "        <li>Meter D contains 180 instances of diagnostic parameters for a 4-path liquid USM. It has 44 attributes and 4 classes</li>\n",
    "    </ul>\n",
    "    <table>\n",
    "        <tr>\n",
    "            <th>Par.</th><th>Meter A</th><th>Meter B</th><th>Meter C</th><th>Meter D</th>\n",
    "        </tr>\n",
    "        <tr>\n",
    "            <td> Diagnostic Instances </td><td> 87 </td><td> 92 </td><td> 181</td><td>180</td>\n",
    "        </tr>\n",
    "        <tr>\n",
    "            <td> Liquid USM Type </td><td> 8-path  </td><td> 4-path </td><td> 4-path </td><td> 4-path </td>\n",
    "        </tr>\n",
    "        <tr>\n",
    "            <td> Attributes </td><td> 37  </td><td> 52 </td><td> 44 </td><td> 44 </td>\n",
    "        </tr>\n",
    "         <tr>\n",
    "            <td> Classes/Health states </td><td> 2  </td><td> 3 </td><td> 4 </td><td> 4 </td>\n",
    "        </tr>\n",
    "          <tr>\n",
    "            <td> Classes Names </td><td> Healthy<br />Installation effects  </td>\n",
    "             <td> Healthy<br />Gas injection<br />Waxing </td>\n",
    "              <td> Healthy<br />Gas injection<br /> Installation effects<br />Waxing </td>\n",
    "              <td> Healthy<br />Gas injection<br /> Installation effects<br />Waxing  </td>\n",
    "        </tr>\n",
    "    </table>\n",
    "        \n",
    "    <b>Attribute Information:</b>\n",
    "    All attributes are continuous, with the exception of the class attribute.\n",
    "            \n",
    "    <table>\n",
    "        <caption><b>Meter A</b></caption>\n",
    "        <tr><th>Parameter N.</th><th>Pararameter Name</th></tr>\n",
    "        <tr><td>(1) </td><td> Flatness ratio</td></tr>\n",
    "            <tr><td>(2) </td><td> Symmetry</td></tr>\n",
    "            <tr><td>(3) </td><td> Crossflow</td></tr>\n",
    "            <tr><td>(4)-(11) </td><td> Flow velocity in each of the eight paths</td></tr>\n",
    "            <tr><td>(12)-(19) </td><td> Speed of sound in each of the eight paths</td></tr>\n",
    "            <tr><td>(20) </td><td> Average speed of sound in all eight paths</td></tr>\n",
    "            <tr><td>(21)-(36) </td><td> Gain at both ends of each of the eight paths</td></tr>\n",
    "            <tr><td>(37) </td><td> Class attribute or health state of meter: 1,2</td></tr>\n",
    "     </table>\n",
    "    <table>\n",
    "        <caption><b>Meter B</b></caption>\n",
    "        <tr><th>Parameter N.</th><th>Pararameter Name</th></tr>\n",
    "        <tr><td>(1) </td><td> Profile factor</td></tr>\n",
    "            <tr><td>(2) </td><td> Symmetry</td></tr>\n",
    "            <tr><td>(3) </td><td> Crossflow</td></tr>\n",
    "            <tr><td>(4) </td><td> Swirl angle</td></tr>\n",
    "            <tr><td> (5)-(8)</td><td> Flow velocity in each of the four paths</td></tr>\n",
    "            <tr><td> (9)</td><td> Average flow velocity in all four paths</td></tr>\n",
    "            <tr><td> (10)-(13)</td><td> Speed of sound in each of the four paths</td></tr>\n",
    "            <tr><td> (14) </td><td> Average speed of sound in all four paths</td></tr>\n",
    "            <tr><td> (15)-(22) </td><td> Signal strength at both ends of each of the four paths</td></tr>\n",
    "            <tr><td> (23)-(26) </td><td> Turbulence in each of the four paths</td></tr>\n",
    "            <tr><td> (27) </td><td> Meter performance</td></tr>\n",
    "            <tr><td> (28)-(35) </td><td> Signal quality at both ends of each of the four paths</td></tr>\n",
    "            <tr><td> (36)-(43) </td><td> Gain at both ends of each of the four paths</td></tr>\n",
    "            <tr><td> (44)-(51) </td><td> Transit time at both ends of each of the four paths</td></tr>\n",
    "            <tr><td> (52) </td><td> Class attribute or health state of meter: 1,2,3</td></tr>\n",
    "     </table>\n",
    "     <table>\n",
    "        <caption><b>Meter C and D</b></caption>\n",
    "        <tr><th>Parameter N.</th><th>Pararameter Name</th></tr>\n",
    "        <tr><td>(1) </td><td> Profile factor</td></tr>\n",
    "            <tr><td> (2) </td><td> Symmetry</td></tr>\n",
    "            <tr><td> (3) </td><td> Crossflow</td></tr>\n",
    "            <tr><td> (4)-(7)</td><td> Flow velocity in each of the four paths</td></tr>\n",
    "            <tr><td> (8)-(11)</td><td> Speed of sound in each of the four paths</td></tr>\n",
    "            <tr><td> (12)-(19) </td><td> Signal strength at both ends of each of the four paths</td></tr>\n",
    "            <tr><td> (20)-(27) </td><td> Signal quality at both ends of each of the four paths</td></tr>\n",
    "            <tr><td> (28)-(35) </td><td> Gain at both ends of each of the four paths</td></tr>\n",
    "            <tr><td> (36)-(43) </td><td> Transit time at both ends of each of the four paths</td></tr>\n",
    "            <tr><td> (44) </td><td> Class attribute or health state of meter: 1,2,3,4</td></tr>\n",
    "     </table>\n",
    "\n",
    "    \n",
    "</blockquote>"
   ]
  },
  {
   "cell_type": "code",
   "execution_count": null,
   "id": "hollow-mouth",
   "metadata": {
    "id": "gtI3Kg4Sz93C"
   },
   "outputs": [],
   "source": [
    "# algebra\n",
    "import numpy as np\n",
    "# data structure\n",
    "import pandas as pd\n",
    "# data visualization\n",
    "import matplotlib.pylab as plt\n",
    "import seaborn as sns\n",
    "#file handling\n",
    "from pathlib import Path\n",
    "\n",
    "\n"
   ]
  },
  {
   "cell_type": "markdown",
   "id": "higher-click",
   "metadata": {
    "id": "QuU41y4fz93D"
   },
   "source": [
    "# Data load\n",
    "The process consist in downloading the data if needed, loading the data as a Pandas dataframe"
   ]
  },
  {
   "cell_type": "code",
   "execution_count": null,
   "id": "healthy-house",
   "metadata": {
    "id": "2PGteJ_Cz93J"
   },
   "outputs": [],
   "source": [
    "filename  = \"Flowmeters.zip\"\n",
    "\n",
    "#if the dataset is not already in the working dir, it will download\n",
    "my_file = Path(filename)\n",
    "if not my_file.is_file():\n",
    "  print(\"Downloading dataset\")\n",
    "  !wget https://archive.ics.uci.edu/ml/machine-learning-databases/00433/Flowmeters.zip\n",
    "  !unzip Flowmeters.zip\n",
    "\n",
    "#function to semplificate the load of dataset, in case it is a csv, tsv or excel file\n",
    "#output is a pandas dataframe \n",
    "def load_csv(filename,separator,columns):\n",
    "    \n",
    "    try:\n",
    "    \n",
    "        csv_table = pd.read_csv(filename,sep=separator,names=columns,dtype='float64')\n",
    "    \n",
    "    except:\n",
    "        \n",
    "        csv_table = pd.read_excel(filename,names=columns)\n",
    "    print(\"n. samples: {}\".format(csv_table.shape[0]))\n",
    "    print(\"n. columns: {}\".format(csv_table.shape[1]))\n",
    "\n",
    "    return csv_table #.dropna()\n",
    "\n",
    "#data = load_csv(filename,separator,columns)\n",
    "data = pd.read_csv('Flowmeters/Meter C',sep='\\t',header=None)\n",
    "#Select only the interesting variable for the model, and remove any anomalous value (e.g. \"nan\")\n",
    "data = data.dropna()"
   ]
  },
  {
   "cell_type": "markdown",
   "id": "sophisticated-weather",
   "metadata": {
    "id": "lJfmyaCQz93M"
   },
   "source": [
    "# Data Analysis and Visualization\n",
    "In this section confidence with the data is gained, data are plotted and cleaned"
   ]
  },
  {
   "cell_type": "code",
   "execution_count": null,
   "id": "heavy-effort",
   "metadata": {
    "colab": {
     "base_uri": "https://localhost:8080/",
     "height": 226
    },
    "id": "Q-U1XUpUz93N",
    "outputId": "ff024a03-c91f-4446-88f6-fefd1b13f9a8"
   },
   "outputs": [],
   "source": [
    "#How does the dataset look like? \n",
    "data.head()\n",
    "#Faults or Healty classes are the followings, they are stored in the column n.43:\n",
    "Faults = ['Healthy','Gas injection','Installation effects','Waxing']\n",
    "data[43].unique()"
   ]
  },
  {
   "cell_type": "markdown",
   "id": "confused-firewall",
   "metadata": {
    "colab": {
     "base_uri": "https://localhost:8080/"
    },
    "id": "k3-FJ_ang3Ol",
    "outputId": "13562781-6363-4914-c7f3-deceb5f4526a"
   },
   "source": [
    "## Task:\n",
    "\n",
    "Is the dataset balanced? \n",
    "Plot the bar plot of the Health classes occurency"
   ]
  },
  {
   "cell_type": "code",
   "execution_count": null,
   "id": "mature-inspection",
   "metadata": {
    "id": "JYPSvPSHz93S"
   },
   "outputs": [],
   "source": [
    "#plot the classes occurency\n",
    "...\n"
   ]
  },
  {
   "cell_type": "markdown",
   "id": "disturbed-brazilian",
   "metadata": {
    "id": "gpNTX-7jz93U"
   },
   "source": [
    "# Machine Learning\n",
    "Here the interesting input features and output to predict for the task are selected, the data are opportunelly preprocessed (i.e. normalized), the dataset is splitted in two separate train and test subsets, each model is trained on the training data and evaluated against a test set. <br/>\n",
    "The evaluation metrics list can be found <a href='https://scikit-learn.org/stable/modules/model_evaluation.html'>here</a>"
   ]
  },
  {
   "cell_type": "code",
   "execution_count": null,
   "id": "perceived-lingerie",
   "metadata": {
    "id": "LEC0gXyzz93V"
   },
   "outputs": [],
   "source": [
    "#the module needed for the modeling and data mining are imported\n",
    "#Cross-Validation \n",
    "from sklearn.model_selection import train_test_split\n",
    "#Data normalization\n",
    "from sklearn.preprocessing   import StandardScaler\n",
    "\n",
    "#metrics to evaluate the model\n",
    "from sklearn.metrics import f1_score\n",
    "from sklearn.metrics import plot_confusion_matrix"
   ]
  },
  {
   "cell_type": "code",
   "execution_count": null,
   "id": "joined-serbia",
   "metadata": {
    "id": "RpGO5CgCz93X"
   },
   "outputs": [],
   "source": [
    "#Selection of feature and output variable, definition of the size (fraction of the total) of the random selected test set\n",
    "measurements = list(range(0,43))\n",
    "target       = 43\n",
    "input_features = measurements\n",
    "output         = target\n",
    "\n",
    "\n",
    "#not preprocessed data\n",
    "unnormalized_X,y = data[input_features],data[output]\n",
    "\n",
    "# normalisation\n",
    "#Having features on a similar scale can help the model converge more quickly towards the minimum\n",
    "scaler_X = StandardScaler().fit(unnormalized_X)\n",
    "X = scaler_X.transform(unnormalized_X)\n",
    "#check if nan are present on the data after normalization to avoid trouble later\n",
    "sum(np.isnan(X))"
   ]
  },
  {
   "cell_type": "markdown",
   "id": "necessary-packing",
   "metadata": {
    "id": "Wchsv209z93Y"
   },
   "source": [
    "## Taks \n",
    "\n",
    "Split the dataset X and y in train and test with test_size = 0.33 and random state = 0"
   ]
  },
  {
   "cell_type": "code",
   "execution_count": null,
   "id": "dependent-fancy",
   "metadata": {
    "id": "Wchsv209z93Y"
   },
   "outputs": [],
   "source": [
    "# basic train-test dataset random split\n"
   ]
  },
  {
   "cell_type": "markdown",
   "id": "classified-reduction",
   "metadata": {
    "id": "n3yXv5kzz93Z"
   },
   "source": [
    "## Task\n",
    "\n",
    "add in the following function the calculation of one evaluation metric <a href=\"https://scikit-learn.org/stable/modules/generated/sklearn.metrics.f1_score.html\">(f1 score)</a> \n",
    "and a plot of the <a href=\"https://scikit-learn.org/stable/modules/generated/sklearn.metrics.plot_confusion_matrix.html\">confusion matrix</a> "
   ]
  },
  {
   "cell_type": "code",
   "execution_count": null,
   "id": "thorough-disability",
   "metadata": {
    "id": "n3yXv5kzz93Z"
   },
   "outputs": [],
   "source": [
    "#dictionary to help the display of the results\n",
    "Score_Dict = {}\n",
    "\n",
    "#function introduced to simplifies the following comparison and test of the various\n",
    "#return the trained model and the score of the selected metrics\n",
    "def fit_predict_plot(model,X_train,y_train,X_test,y_test,class_names):\n",
    "    model.fit(X_train,y_train)\n",
    "\n",
    "    pred_y_test = model.predict(X_test)\n",
    "\n",
    "    ###TASK:: Add f1 score with average = 'micro'\n",
    "    score = ....\n",
    "    \n",
    "    model_name = type(model).__name__\n",
    "    if(model_name=='GridSearchCV'):\n",
    "        model_name ='CV_'+type(model.estimator).__name__\n",
    "\n",
    "    #Alternative metrics are listed here:https://scikit-learn.org/stable/modules/model_evaluation.html\n",
    "    Score_Dict[model_name]=score\n",
    "\n",
    "    fig,ax = plt.subplots(1,1,figsize=[10,10])\n",
    "    \n",
    "    np.set_printoptions(precision=2)\n",
    "\n",
    "    ###TASK:: Add confusion matrix plot\n",
    "\n",
    "    ...\n",
    "    ...\n",
    "    \n",
    "    plt.axis('tight')\n",
    "    \n",
    "    return model,score"
   ]
  },
  {
   "cell_type": "markdown",
   "id": "integrated-split",
   "metadata": {
    "id": "6sLY8EmRz93a"
   },
   "source": [
    "## Models\n",
    "As example a Ridge Classifier will be implemented:\n",
    "<ul>\n",
    "    <li><a href=\"https://scikit-learn.org/stable/modules/generated/sklearn.linear_model.RidgeClassifier.html#sklearn.linear_model.RidgeClassifier\">Ridge</a></li>\n",
    "\n",
    "</ul>"
   ]
  },
  {
   "cell_type": "markdown",
   "id": "industrial-permission",
   "metadata": {
    "id": "S16NCi1RL7bj"
   },
   "source": [
    "# Ridge Classifier"
   ]
  },
  {
   "cell_type": "code",
   "execution_count": null,
   "id": "excited-daniel",
   "metadata": {
    "colab": {
     "base_uri": "https://localhost:8080/",
     "height": 659
    },
    "id": "hSvW_dDez93a",
    "outputId": "d4bc0924-cc3b-47aa-92e3-cf38750e993c"
   },
   "outputs": [],
   "source": [
    "#initialization, fit and evaluation of the model\n",
    "from sklearn.linear_model import RidgeClassifier\n",
    "from sklearn.model_selection import GridSearchCV\n",
    "estimator = RidgeClassifier()\n",
    "\n",
    "parameters = { 'alpha':np.logspace(-2,2,5)}\n",
    "model = GridSearchCV(estimator, parameters,cv=5)\n",
    "\n",
    "model, score = fit_predict_plot(model,X_train,y_train.values.flatten(),X_test,y_test.values.flatten(),Faults)\n",
    "\n",
    "print(\"f1 score: %.2f\"%score)"
   ]
  },
  {
   "cell_type": "markdown",
   "id": "appreciated-dream",
   "metadata": {
    "id": "canOqoWHMY9P"
   },
   "source": [
    "## Task:\n",
    "Implement, train and fit the following algorithm with Grid search and 5-fold Cross Validation. Plot the confusion matrix and print the f1 score.\n",
    "<ul>\n",
    "    <li><a href=\"https://scikit-learn.org/stable/modules/generated/sklearn.neighbors.KNeighborsClassifier.html#sklearn.neighbors.KNeighborsClassifier\">kNN</a>: with <i>n_neighbors: 3,5,7</i></li>\n",
    "    <li><a href=\"https://scikit-learn.org/stable/modules/generated/sklearn.svm.SVC.html\">Support Vector Classification</a>: with <i> gamma = auto, C: 0.1,1,10,100</i></li>\n",
    "    <li><a href=\"https://scikit-learn.org/stable/modules/generated/sklearn.linear_model.LogisticRegression.html#sklearn.linear_model.LogisticRegression\">Logistic Regression</a>: with <i> max_iter=1000, C :0.01,0.1,1,10,100,1000</i></li>\n",
    "</ul>"
   ]
  },
  {
   "cell_type": "markdown",
   "id": "little-immune",
   "metadata": {
    "id": "p_N_eVk5Meib"
   },
   "source": [
    "# kNN"
   ]
  },
  {
   "cell_type": "code",
   "execution_count": null,
   "id": "collect-crown",
   "metadata": {
    "colab": {
     "base_uri": "https://localhost:8080/",
     "height": 655
    },
    "id": "bfbnIFGEJiFP",
    "outputId": "892be221-1f48-4163-c888-ab63ae9ae9ed"
   },
   "outputs": [],
   "source": [
    "..."
   ]
  },
  {
   "cell_type": "markdown",
   "id": "precise-exhibit",
   "metadata": {
    "id": "Gdybde6aMn95"
   },
   "source": [
    "# SVC"
   ]
  },
  {
   "cell_type": "code",
   "execution_count": null,
   "id": "cooked-shopper",
   "metadata": {
    "colab": {
     "base_uri": "https://localhost:8080/",
     "height": 659
    },
    "id": "gVpTPdm8Mnfb",
    "outputId": "30280482-cacf-41ad-930f-c9cf46867c59"
   },
   "outputs": [],
   "source": [
    "..."
   ]
  },
  {
   "cell_type": "markdown",
   "id": "cosmetic-upper",
   "metadata": {
    "id": "0s1y2od0MhxU"
   },
   "source": [
    "# Logistic Regression"
   ]
  },
  {
   "cell_type": "code",
   "execution_count": null,
   "id": "protecting-employment",
   "metadata": {
    "colab": {
     "base_uri": "https://localhost:8080/",
     "height": 659
    },
    "id": "sogpyC7hIREr",
    "outputId": "422ccc4f-ba11-4fee-e9c0-ea140708e578"
   },
   "outputs": [],
   "source": [
    "..."
   ]
  },
  {
   "cell_type": "code",
   "execution_count": null,
   "id": "complex-twist",
   "metadata": {
    "id": "dmM95YkGz93s",
    "outputId": "5fb2e4bb-d82a-44be-a1e3-bf719966cf74"
   },
   "outputs": [],
   "source": [
    "#print out the results in a table\n",
    "from IPython.display import Markdown as md\n",
    "from IPython.display import display\n",
    "\n",
    "\n",
    "table = '<table><tr><th> Model</th><th> Accuracy Metric </th></tr>'\n",
    "\n",
    "for key, value in Score_Dict.items():\n",
    "\n",
    "    table +='<tr> <td>'+key+'</td><td>' +'%.2f'%(value)+'</td></tr>'\n",
    "table+='</table>'\n",
    "display(md(table))\n",
    "    \n",
    "\n",
    "names = list(Score_Dict.keys())\n",
    "values = list(Score_Dict.values())\n",
    "\n",
    "plt.figure(figsize=(15, 3))\n",
    "plt.bar(names, values)\n",
    "plt.ylabel('Accuracy Metric')\n",
    "plt.xticks(rotation=30)\n",
    "plt.grid()\n"
   ]
  },
  {
   "cell_type": "code",
   "execution_count": null,
   "id": "disabled-instruction",
   "metadata": {
    "id": "MV0U7i-Iz93u"
   },
   "outputs": [],
   "source": []
  },
  {
   "cell_type": "code",
   "execution_count": null,
   "id": "tracked-postage",
   "metadata": {},
   "outputs": [],
   "source": []
  }
 ],
 "metadata": {
  "colab": {
   "name": "Exercise_4_FlowMeterDiagnostic.ipynb",
   "provenance": []
  },
  "kernelspec": {
   "display_name": "Python 3",
   "language": "python",
   "name": "python3"
  },
  "language_info": {
   "codemirror_mode": {
    "name": "ipython",
    "version": 3
   },
   "file_extension": ".py",
   "mimetype": "text/x-python",
   "name": "python",
   "nbconvert_exporter": "python",
   "pygments_lexer": "ipython3",
   "version": "3.7.3"
  }
 },
 "nbformat": 4,
 "nbformat_minor": 5
}
