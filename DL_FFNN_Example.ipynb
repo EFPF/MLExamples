{
 "cells": [
  {
   "cell_type": "markdown",
   "metadata": {
    "colab_type": "text",
    "id": "cjwNWDrHJtfT"
   },
   "source": [
    "# Handwritten digits classification with a Feed-Forward Neural network\n",
    "\n",
    "The notebook uses the MNIST database. The MNIST dataset containss 70,000 grayscale images of handwritten digits at a resolution of 28 by 28 pixels. \n",
    "\n",
    "<a href=\"https://en.wikipedia.org/wiki/MNIST_database\"><img src=\"https://upload.wikimedia.org/wikipedia/commons/2/27/MnistExamples.png\"/></a>\n",
    "\n",
    "   \n",
    "The task is to take one of these images as input and predict the most likely digit contained in the image (along with a relative confidence in this prediction):\n",
    "<a href=\"https://colab.research.google.com/github/lexfridman/mit-deep-learning/blob/master/tutorial_deep_learning_basics/deep_learning_basics.ipynb\"><img src=\"https://i.imgur.com/ITrm9x4.png\" width=\"500px\"></a>\n",
    "    \n",
    "    "
   ]
  },
  {
   "cell_type": "markdown",
   "metadata": {
    "colab_type": "text",
    "id": "BxHTsSn2JtfV"
   },
   "source": [
    "\n",
    "## Enabling and testing the GPU in Colab\n",
    "\n",
    "    Navigate to Edit\n",
    "        →Notebook Settings.\n",
    "    select GPU from the Hardware Accelerator drop-down.\n",
    "\n"
   ]
  },
  {
   "cell_type": "code",
   "execution_count": null,
   "metadata": {
    "colab": {
     "base_uri": "https://localhost:8080/",
     "height": 598
    },
    "colab_type": "code",
    "executionInfo": {
     "elapsed": 39415,
     "status": "ok",
     "timestamp": 1560955050601,
     "user": {
      "displayName": "Chiara Masiero",
      "photoUrl": "",
      "userId": "16354613263174901870"
     },
     "user_tz": -120
    },
    "id": "2MY4Q-euJtfW",
    "outputId": "e6ed4917-f027-43d2-8c66-7242b1dbd1dc"
   },
   "outputs": [],
   "source": [
    "#import the needed modules\n",
    "import tensorflow as tf\n",
    "import numpy as np\n",
    "import matplotlib.pyplot as plt\n",
    "import os"
   ]
  },
  {
   "cell_type": "markdown",
   "metadata": {
    "colab_type": "text",
    "id": "fjV0JxznJtfa"
   },
   "source": [
    "## The dataset is available through TensorFlow \n",
    "create train and test dataset"
   ]
  },
  {
   "cell_type": "code",
   "execution_count": null,
   "metadata": {
    "colab": {
     "base_uri": "https://localhost:8080/",
     "height": 51
    },
    "colab_type": "code",
    "executionInfo": {
     "elapsed": 1523,
     "status": "ok",
     "timestamp": 1560955357575,
     "user": {
      "displayName": "Chiara Masiero",
      "photoUrl": "",
      "userId": "16354613263174901870"
     },
     "user_tz": -120
    },
    "id": "3GtfPCYGJtfb",
    "outputId": "858741d0-fd09-4ecb-f3a8-0a55829933f6"
   },
   "outputs": [],
   "source": [
    "(x_train,y_train), (x_test,y_test) = tf.keras.datasets.mnist.load_data()"
   ]
  },
  {
   "cell_type": "markdown",
   "metadata": {
    "colab_type": "text",
    "id": "CuYk3zOSJtfd"
   },
   "source": [
    "## Data exploration and visualization"
   ]
  },
  {
   "cell_type": "code",
   "execution_count": null,
   "metadata": {
    "colab": {
     "base_uri": "https://localhost:8080/",
     "height": 119
    },
    "colab_type": "code",
    "executionInfo": {
     "elapsed": 462,
     "status": "ok",
     "timestamp": 1560955357583,
     "user": {
      "displayName": "Chiara Masiero",
      "photoUrl": "",
      "userId": "16354613263174901870"
     },
     "user_tz": -120
    },
    "id": "6fvRJiFMJtfd",
    "outputId": "34cf37f5-643c-4907-d2dc-290d8cd3560b"
   },
   "outputs": [],
   "source": [
    "#how many samples are available?\n",
    "print('Shape of x_train: {}'.format(x_train.shape))\n",
    "print('Shape of y_train: {}'.format(y_train.shape))\n",
    "print('Shape of x_test: {}'.format(x_test.shape))\n",
    "print('Shape of y_test: {}'.format(y_test.shape))"
   ]
  },
  {
   "cell_type": "code",
   "execution_count": null,
   "metadata": {
    "colab": {},
    "colab_type": "code",
    "id": "4Pz4iAbLJtfg"
   },
   "outputs": [],
   "source": [
    "#plot 4 example of handwritten digits from the train dataset\n",
    "idxes =  [np.random.randint(60000) for i in range(4)]\n",
    "plt.figure(figsize=(15,8))\n",
    "for i in range(4):\n",
    "    plt.subplot(1,4,i+1)\n",
    "    plt.imshow(x_train[idxes[i]],cmap='Greys')\n",
    "    plt.title('Label = {}'.format(y_train[idxes[i]]))\n"
   ]
  },
  {
   "cell_type": "code",
   "execution_count": null,
   "metadata": {
    "colab": {
     "base_uri": "https://localhost:8080/",
     "height": 246
    },
    "colab_type": "code",
    "executionInfo": {
     "elapsed": 2333,
     "status": "ok",
     "timestamp": 1560955361992,
     "user": {
      "displayName": "Chiara Masiero",
      "photoUrl": "",
      "userId": "16354613263174901870"
     },
     "user_tz": -120
    },
    "id": "rbaaV2S7Jtfh",
    "outputId": "05603e96-1d7a-46d8-e1af-185472d1cefd"
   },
   "outputs": [],
   "source": []
  },
  {
   "cell_type": "markdown",
   "metadata": {
    "colab_type": "text",
    "id": "J2Qq0R-zJtfl"
   },
   "source": [
    "## Dataset balanced?"
   ]
  },
  {
   "cell_type": "code",
   "execution_count": null,
   "metadata": {
    "colab": {
     "base_uri": "https://localhost:8080/",
     "height": 562
    },
    "colab_type": "code",
    "executionInfo": {
     "elapsed": 1168,
     "status": "ok",
     "timestamp": 1560955362807,
     "user": {
      "displayName": "Chiara Masiero",
      "photoUrl": "",
      "userId": "16354613263174901870"
     },
     "user_tz": -120
    },
    "id": "EaTLqGPFJtfm",
    "outputId": "c4a3239e-1c07-4be5-b37a-559595eca2ef"
   },
   "outputs": [],
   "source": [
    "from collections import Counter\n",
    "\n",
    "train_class_counter = Counter(y_train)\n",
    "plt.figure()\n",
    "plt.bar(train_class_counter.keys(),train_class_counter.values())\n",
    "plt.title('Class distribution in training dataset')\n",
    "\n",
    "\n",
    "test_class_counter = Counter(y_test)\n",
    "plt.figure()\n",
    "plt.bar(test_class_counter.keys(),test_class_counter.values())\n",
    "plt.title('Class distribution in test dataset')"
   ]
  },
  {
   "cell_type": "markdown",
   "metadata": {},
   "source": [
    "## Data standardization\n",
    "The input values has to be scaled to a range of 0 to 1 before feeding to the neural network model. \n",
    "For this, we divide the values by 255. Since every pixel is represented by a 8bit color-value, and the range for each individual color is 0-255 (as 2^8 = 256 possibilities)."
   ]
  },
  {
   "cell_type": "code",
   "execution_count": null,
   "metadata": {
    "colab": {},
    "colab_type": "code",
    "id": "_1R66JMaJtfo"
   },
   "outputs": [],
   "source": [
    "#we scale data to ease training\n",
    "x_train, x_test = x_train / 255.0, x_test / 255.0"
   ]
  },
  {
   "cell_type": "markdown",
   "metadata": {
    "colab_type": "text",
    "id": "7k4HWJIHJtfq"
   },
   "source": [
    "## Model definition for FFNN \n",
    "We use tf.keras to define models by means of a simple, high-level library.\n",
    "Each layer is defined by some common parameters:\n",
    "- **activation**: the activation function for the layer. This parameter is specified by the name of a built-in function or as a callable object. By default, no activation is applied.\n",
    "- **kernel_initializer** and **bias_initializer**: the initialization schemes that create the layer's weights (kernel and bias). This parameter is a name or a callable object. This defaults to the \"Glorot uniform\" initializer.\n",
    "- **kernel_regularizer** and **bias_regularizer**: The regularization schemes that apply the layer's weights (kernel and bias), such as L1 or L2 regularization. By default, no regularization is applied."
   ]
  },
  {
   "cell_type": "code",
   "execution_count": null,
   "metadata": {
    "colab": {},
    "colab_type": "code",
    "id": "o4RB4kr0Jtfr"
   },
   "outputs": [],
   "source": [
    "from tensorflow.keras.models import Sequential\n",
    "from tensorflow.keras.layers import Dense,Flatten,Dropout\n",
    "\n",
    "def create_model():\n",
    "    model = Sequential(\n",
    "    [\n",
    "        Flatten(input_shape=(28,28)),\n",
    "        Dense(512,activation='relu'),\n",
    "\n",
    "    ])\n",
    "\n",
    "    # The compile step specifies the training configuration.\n",
    "    model.compile(loss='sparse_categorical_crossentropy',\n",
    "                  optimizer='adam',\n",
    "                  metrics=['accuracy'])\n",
    "    return model\n",
    "\n",
    "model = create_model()"
   ]
  },
  {
   "cell_type": "code",
   "execution_count": null,
   "metadata": {
    "colab": {
     "base_uri": "https://localhost:8080/",
     "height": 289
    },
    "colab_type": "code",
    "executionInfo": {
     "elapsed": 639,
     "status": "ok",
     "timestamp": 1560955369328,
     "user": {
      "displayName": "Chiara Masiero",
      "photoUrl": "",
      "userId": "16354613263174901870"
     },
     "user_tz": -120
    },
    "id": "Rvhd5d0uJtfs",
    "outputId": "9abc8c91-5289-420b-da00-59f5dac9fde4"
   },
   "outputs": [],
   "source": [
    "model.summary()"
   ]
  },
  {
   "cell_type": "code",
   "execution_count": null,
   "metadata": {
    "colab": {
     "base_uri": "https://localhost:8080/",
     "height": 466
    },
    "colab_type": "code",
    "executionInfo": {
     "elapsed": 945,
     "status": "ok",
     "timestamp": 1560955372632,
     "user": {
      "displayName": "Chiara Masiero",
      "photoUrl": "",
      "userId": "16354613263174901870"
     },
     "user_tz": -120
    },
    "id": "GLTMjTZKKg5F",
    "outputId": "05dfb0fc-b138-413d-cf06-680c72485841"
   },
   "outputs": [],
   "source": [
    "tf.keras.utils.plot_model(model)"
   ]
  },
  {
   "cell_type": "markdown",
   "metadata": {
    "colab_type": "text",
    "id": "v0o21dnoJtfv"
   },
   "source": [
    "## Training"
   ]
  },
  {
   "cell_type": "code",
   "execution_count": null,
   "metadata": {
    "colab": {
     "base_uri": "https://localhost:8080/",
     "height": 462
    },
    "colab_type": "code",
    "executionInfo": {
     "elapsed": 88712,
     "status": "ok",
     "timestamp": 1560955463651,
     "user": {
      "displayName": "Chiara Masiero",
      "photoUrl": "",
      "userId": "16354613263174901870"
     },
     "user_tz": -120
    },
    "id": "qsaAlUI6Jtf0",
    "outputId": "09c75932-c600-45f0-f8c2-e177a5ac56ae"
   },
   "outputs": [],
   "source": [
    "history = model.fit(x_train,y_train,batch_size=32,epochs=10,validation_split=0.1)"
   ]
  },
  {
   "cell_type": "code",
   "execution_count": null,
   "metadata": {
    "colab": {
     "base_uri": "https://localhost:8080/",
     "height": 298
    },
    "colab_type": "code",
    "executionInfo": {
     "elapsed": 1282,
     "status": "ok",
     "timestamp": 1560955515953,
     "user": {
      "displayName": "Chiara Masiero",
      "photoUrl": "",
      "userId": "16354613263174901870"
     },
     "user_tz": -120
    },
    "id": "anwVFh-_Jtf3",
    "outputId": "c2179cf1-87d3-47ac-f651-675bd1852602"
   },
   "outputs": [],
   "source": [
    "plt.figure()\n",
    "plt.plot(history.history['accuracy'],label='training accuracy')\n",
    "plt.plot(history.history['val_accuracy'],label='validation accuracy')\n",
    "plt.grid()\n",
    "plt.title('Training vs validation accuracy')\n",
    "plt.legend()"
   ]
  },
  {
   "cell_type": "markdown",
   "metadata": {
    "colab_type": "text",
    "id": "C8QD5hVBJtf5"
   },
   "source": [
    "## Evaluation"
   ]
  },
  {
   "cell_type": "code",
   "execution_count": null,
   "metadata": {
    "colab": {
     "base_uri": "https://localhost:8080/",
     "height": 51
    },
    "colab_type": "code",
    "executionInfo": {
     "elapsed": 1568,
     "status": "ok",
     "timestamp": 1560955519829,
     "user": {
      "displayName": "Chiara Masiero",
      "photoUrl": "",
      "userId": "16354613263174901870"
     },
     "user_tz": -120
    },
    "id": "vrtFp5e6Jtf6",
    "outputId": "452c7f84-8127-46a6-ddf9-f78b3e18fcfe"
   },
   "outputs": [],
   "source": [
    "[test_loss, test_accuracy] = model.evaluate(x_test,y_test)\n",
    "print('Test accuracy: {}'.format(test_accuracy))\n",
    "\n",
    "y_pred = np.argmax(model.predict(x_test), axis=-1)\n",
    "\n",
    "#check against the ground truth\n",
    "mismatch = np.where(y_pred!=y_test)[0]"
   ]
  },
  {
   "cell_type": "code",
   "execution_count": null,
   "metadata": {
    "colab": {},
    "colab_type": "code",
    "id": "bSGW35edJtgE",
    "outputId": "d80ce0b8-14f8-4a00-cf3d-787767ed8edb"
   },
   "outputs": [],
   "source": [
    "mismatch_class_counter = Counter(y_test[mismatch])\n",
    "mismatch_percentage = dict()\n",
    "for digit in test_class_counter.keys():\n",
    "    mismatch_percentage[digit]=mismatch_class_counter[digit]/test_class_counter[digit]*100\n",
    "plt.figure()\n",
    "plt.bar(mismatch_percentage.keys(),mismatch_percentage.values())\n",
    "plt.title('Class distribution for mismatch in label prediction')\n",
    "plt.show()"
   ]
  },
  {
   "cell_type": "code",
   "execution_count": null,
   "metadata": {
    "colab": {
     "base_uri": "https://localhost:8080/",
     "height": 261
    },
    "colab_type": "code",
    "executionInfo": {
     "elapsed": 1422,
     "status": "ok",
     "timestamp": 1560955533194,
     "user": {
      "displayName": "Chiara Masiero",
      "photoUrl": "",
      "userId": "16354613263174901870"
     },
     "user_tz": -120
    },
    "id": "n8C7RzouJtgI",
    "outputId": "934d1a13-0322-49e6-aa2e-3a2d2c3e8f64"
   },
   "outputs": [],
   "source": [
    "np.random.shuffle(mismatch)\n",
    "idxes =  mismatch[:4]\n",
    "plt.figure(figsize=(15,8))\n",
    "for i in range(4):\n",
    "    plt.subplot(1,4,i+1)\n",
    "    plt.imshow(x_test[idxes[i]],cmap='Greys')\n",
    "    plt.title('True label = {}\\nPredicted label: {}'.format(y_test[idxes[i]],y_pred[idxes[i]]))"
   ]
  },
  {
   "cell_type": "code",
   "execution_count": null,
   "metadata": {
    "colab": {
     "base_uri": "https://localhost:8080/",
     "height": 300
    },
    "colab_type": "code",
    "executionInfo": {
     "elapsed": 2157,
     "status": "ok",
     "timestamp": 1560955615983,
     "user": {
      "displayName": "Chiara Masiero",
      "photoUrl": "",
      "userId": "16354613263174901870"
     },
     "user_tz": -120
    },
    "id": "_YnJIY5SJtgM",
    "outputId": "a8b5475e-a3a3-418d-9cbf-1f1aac5bfaa8"
   },
   "outputs": [],
   "source": [
    "from sklearn.metrics import confusion_matrix\n",
    "\n",
    "cm = np.log10(1+confusion_matrix(y_test,y_pred))\n",
    "fig,ax = plt.subplots(figsize=[12,10])\n",
    "im = ax.imshow(cm, interpolation='nearest',cmap='Blues')\n",
    "ax.figure.colorbar(im, ax=ax)\n",
    "plt.xlabel('Predicted labels')\n",
    "plt.ylabel('True labels')\n",
    "plt.show()\n"
   ]
  },
  {
   "cell_type": "markdown",
   "metadata": {
    "colab_type": "text",
    "id": "A-zVMCf2Jtgc"
   },
   "source": [
    "## Exercises\n",
    "- What happens if dropout is removed from the model?\n",
    "- What happens if we increase the number of epochs?\n",
    "- Does it help to add more dense layers?\n",
    "- Does it help to change the activation function, options are listed <a href=\"https://keras.io/api/layers/activations/#available-activations\">here</a>?\n",
    "- Have a look at the digits that are wrongly recognized by the FFNN. Can you correctly classify them?\n",
    "\n",
    "Report in the following table the accuracy for every task and comment the results\n",
    "\n",
    "\n",
    "<table>\n",
    "    <tr>\n",
    "        <th> Task </th><th> Accuracy </th><th> Validation Accuracy </th><th> Test Accuracy </th>\n",
    "    </tr> \n",
    "    <tr>\n",
    "        <td> Increase N. Epochs </td><td> ... </td><td> ... </td><td> ... </td>\n",
    "    </tr>\n",
    "    <tr>\n",
    "        <td> Remove Dropout </td><td> ... </td><td> ... </td><td> ... </td>\n",
    "    </tr> \n",
    "    <tr>\n",
    "        <td> Add 1 Dense layer </td><td> ... </td><td> ... </td><td> ... </td>\n",
    "    </tr> \n",
    "    <tr>\n",
    "        <td> Change activation function of first Dense layer </td><td> ... </td><td> ... </td><td> ... </td>\n",
    "    </tr> \n",
    "</table>    \n"
   ]
  },
  {
   "cell_type": "code",
   "execution_count": null,
   "metadata": {
    "colab": {},
    "colab_type": "code",
    "id": "pOlPEREoJtgc"
   },
   "outputs": [],
   "source": [
    "#change the model in accordance with the task\n",
    "\n",
    "from tensorflow import keras\n",
    "from tensorflow.keras.layers import Conv2D, MaxPooling2D, Dropout, Flatten, Dense\n",
    "\n",
    "\n",
    "newmodel = keras.Sequential()\n",
    "newmodel.add(Flatten(input_shape=(28,28)))\n",
    "newmodel.add(Dense(512,activation='relu'))\n",
    "newmodel.add(Dropout(0.5))\n",
    "newmodel.add(Dense(10,activation='softmax'))\n",
    "\n",
    "newmodel.compile(loss='sparse_categorical_crossentropy',\n",
    "                  optimizer='adam',\n",
    "                  metrics=['accuracy'])\n",
    "\n",
    "n_epochs = 10\n",
    "\n"
   ]
  },
  {
   "cell_type": "code",
   "execution_count": null,
   "metadata": {},
   "outputs": [],
   "source": [
    "#check the results of your modified model running this cell\n",
    "\n",
    "\n",
    "newhistory = newmodel.fit(x_train,y_train,batch_size=32,epochs=n_epochs,validation_split=0.1)\n",
    "plt.figure()\n",
    "plt.plot(newhistory.history['accuracy'],label='training accuracy')\n",
    "plt.plot(newhistory.history['val_accuracy'],label='validation accuracy')\n",
    "plt.grid()\n",
    "plt.title('Training vs validation accuracy')\n",
    "plt.legend()\n",
    "[test_loss, test_accuracy] = newmodel.evaluate(x_test,y_test)\n",
    "print('Test accuracy: {}'.format(test_accuracy))\n",
    "\n",
    "y_pred = np.argmax(newmodel.predict(x_test), axis=-1)\n",
    "\n",
    "#check against the ground truth\n",
    "mismatch = np.where(y_pred!=y_test)[0]\n",
    "\n",
    "mismatch_class_counter = Counter(y_test[mismatch])\n",
    "mismatch_percentage = dict()\n",
    "for digit in test_class_counter.keys():\n",
    "    mismatch_percentage[digit]=mismatch_class_counter[digit]/test_class_counter[digit]*100\n",
    "plt.figure()\n",
    "plt.bar(mismatch_percentage.keys(),mismatch_percentage.values())\n",
    "plt.title('Class distribution for mismatch in label prediction')\n",
    "plt.show()\n",
    "\n",
    "cm = np.log(1+confusion_matrix(y_test,y_pred))\n",
    "\n",
    "fig,ax = plt.subplots()\n",
    "im = ax.imshow(cm, interpolation='nearest',cmap='Reds')\n",
    "ax.figure.colorbar(im, ax=ax)\n",
    "plt.xlabel('Predicted labels')\n",
    "plt.ylabel('True labels')"
   ]
  }
 ],
 "metadata": {
  "accelerator": "GPU",
  "colab": {
   "collapsed_sections": [],
   "name": "FFNN MNIST Example",
   "provenance": [],
   "version": "0.3.2"
  },
  "kernelspec": {
   "display_name": "Python 3",
   "language": "python",
   "name": "python3"
  },
  "language_info": {
   "codemirror_mode": {
    "name": "ipython",
    "version": 3
   },
   "file_extension": ".py",
   "mimetype": "text/x-python",
   "name": "python",
   "nbconvert_exporter": "python",
   "pygments_lexer": "ipython3",
   "version": "3.7.3"
  }
 },
 "nbformat": 4,
 "nbformat_minor": 4
}
